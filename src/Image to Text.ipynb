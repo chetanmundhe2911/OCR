{
 "cells": [
  {
   "cell_type": "code",
   "execution_count": 6,
   "metadata": {},
   "outputs": [],
   "source": [
    "import os"
   ]
  },
  {
   "cell_type": "code",
   "execution_count": 18,
   "metadata": {},
   "outputs": [],
   "source": [
    "def remove_non_ascii(text):\n",
    "    return ''.join(i for i in text if ord(i)<128)\n",
    "\n",
    "def remove_newline_feed(text):\n",
    "    return text.replace('\\n','')\n",
    "\n",
    "def clearup_text(text):\n",
    "    return remove_newline_feed(remove_non_ascii(text))"
   ]
  },
  {
   "cell_type": "code",
   "execution_count": 19,
   "metadata": {},
   "outputs": [],
   "source": [
    "def extract_text(img_path):\n",
    "    text = os.popen('tesseract {} stdout -l eng+hin --oem 1 --psm 3'.format(img_path)).read()\n",
    "    return clearup_text(text)"
   ]
  },
  {
   "cell_type": "code",
   "execution_count": 29,
   "metadata": {},
   "outputs": [
    {
     "data": {
      "text/plain": [
       "'Fach(529  1   60rs paytm [JESD ar in 5 Minutes\\x0c'"
      ]
     },
     "execution_count": 29,
     "metadata": {},
     "output_type": "execute_result"
    }
   ],
   "source": [
    "extract_text('data/train/spam/200.jpg')"
   ]
  },
  {
   "cell_type": "code",
   "execution_count": 26,
   "metadata": {},
   "outputs": [],
   "source": [
    "DATA_DIR = '/home/mayur/hack/data/'"
   ]
  },
  {
   "cell_type": "code",
   "execution_count": 35,
   "metadata": {},
   "outputs": [],
   "source": [
    "with open('/mnt/store/spam-data/spam-or-not.csv','w') as csvout:\n",
    "    csvout.write('label,data\\n')\n",
    "    for folder in ['train/', 'test/']:\n",
    "        for _type in ['spam', 'ham']:\n",
    "            IMG_DIR = DATA_DIR + folder + _type\n",
    "            for img in os.listdir(IMG_DIR):\n",
    "                IMG_PATH = IMG_DIR + '/' + img\n",
    "                if os.path.splitext(IMG_PATH)[1] in ['.jpg', '.jpeg', '.png', '.gif']:\n",
    "                    csvout.write(_type + ',' + extract_text(IMG_PATH))\n",
    "                    csvout.write('\\n')"
   ]
  },
  {
   "cell_type": "code",
   "execution_count": 37,
   "metadata": {},
   "outputs": [],
   "source": []
  }
 ],
 "metadata": {
  "kernelspec": {
   "display_name": "Python 3",
   "language": "python",
   "name": "python3"
  },
  "language_info": {
   "codemirror_mode": {
    "name": "ipython",
    "version": 3
   },
   "file_extension": ".py",
   "mimetype": "text/x-python",
   "name": "python",
   "nbconvert_exporter": "python",
   "pygments_lexer": "ipython3",
   "version": "3.6.8"
  }
 },
 "nbformat": 4,
 "nbformat_minor": 2
}
