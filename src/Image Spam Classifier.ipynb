{
 "cells": [
  {
   "cell_type": "code",
   "execution_count": 1,
   "metadata": {},
   "outputs": [],
   "source": [
    "DATA_PATH = '/mnt/store/spam-data/'\n",
    "train_data_dir = DATA_PATH + 'train/'\n",
    "valid_data_dir = DATA_PATH + 'test/'"
   ]
  },
  {
   "cell_type": "code",
   "execution_count": 2,
   "metadata": {},
   "outputs": [
    {
     "name": "stderr",
     "output_type": "stream",
     "text": [
      "Using TensorFlow backend.\n"
     ]
    }
   ],
   "source": [
    "from keras.layers import Conv2D, MaxPooling2D, ZeroPadding2D\n",
    "from keras.layers import Dense, Activation, Dropout, Flatten\n",
    "from keras import optimizers\n",
    "from keras.models import Sequential\n",
    "from keras.preprocessing.image import ImageDataGenerator\n",
    "import numpy as np "
   ]
  },
  {
   "cell_type": "code",
   "execution_count": 3,
   "metadata": {},
   "outputs": [],
   "source": [
    "img_width = 150\n",
    "img_height = 150"
   ]
  },
  {
   "cell_type": "code",
   "execution_count": 4,
   "metadata": {},
   "outputs": [],
   "source": [
    "nb_train_samples = 2000\n",
    "nb_validation_samples = 800\n",
    "epochs = 5\n",
    "batch_size = 16"
   ]
  },
  {
   "cell_type": "code",
   "execution_count": 5,
   "metadata": {},
   "outputs": [],
   "source": [
    "datagen = ImageDataGenerator(rescale = 1./255)"
   ]
  },
  {
   "cell_type": "code",
   "execution_count": 6,
   "metadata": {},
   "outputs": [
    {
     "name": "stdout",
     "output_type": "stream",
     "text": [
      "Found 1907 images belonging to 2 classes.\n",
      "Found 399 images belonging to 2 classes.\n"
     ]
    }
   ],
   "source": [
    "train_generator = datagen.flow_from_directory(directory=train_data_dir,\n",
    "    target_size=(img_width,img_height),\n",
    "    classes=['ham','spam'],\n",
    "    class_mode='binary',\n",
    "    batch_size=16)\n",
    "\n",
    "validation_generator = datagen.flow_from_directory(directory=valid_data_dir,\n",
    "    target_size=(img_width,img_height),\n",
    "    classes=['ham','spam'],\n",
    "    class_mode='binary',\n",
    "    batch_size=32)"
   ]
  },
  {
   "cell_type": "code",
   "execution_count": 7,
   "metadata": {},
   "outputs": [
    {
     "name": "stdout",
     "output_type": "stream",
     "text": [
      "WARNING:tensorflow:From /opt/miniconda3/envs/ai/lib/python3.6/site-packages/tensorflow/python/framework/op_def_library.py:263: colocate_with (from tensorflow.python.framework.ops) is deprecated and will be removed in a future version.\n",
      "Instructions for updating:\n",
      "Colocations handled automatically by placer.\n",
      "WARNING:tensorflow:From /opt/miniconda3/envs/ai/lib/python3.6/site-packages/keras/backend/tensorflow_backend.py:3445: calling dropout (from tensorflow.python.ops.nn_ops) with keep_prob is deprecated and will be removed in a future version.\n",
      "Instructions for updating:\n",
      "Please use `rate` instead of `keep_prob`. Rate should be set to `rate = 1 - keep_prob`.\n"
     ]
    }
   ],
   "source": [
    "model =Sequential()\n",
    "\n",
    "model.add(Conv2D(32,(3,3), input_shape=(img_width, img_height, 3)))\n",
    "model.add(Activation('relu'))\n",
    "model.add(MaxPooling2D(pool_size=(2,2)))\n",
    "\n",
    "model.add(Conv2D(32,(3,3), input_shape=(img_width, img_height, 3)))\n",
    "model.add(Activation('relu'))\n",
    "model.add(MaxPooling2D(pool_size=(2,2)))\n",
    "\n",
    "model.add(Conv2D(64,(3,3), input_shape=(img_width, img_height, 3)))\n",
    "model.add(Activation('relu'))\n",
    "model.add(MaxPooling2D(pool_size=(2,2)))\n",
    "\n",
    "model.add(Flatten())\n",
    "model.add(Dense(64))\n",
    "model.add(Activation('relu'))\n",
    "model.add(Dropout(0.5))\n",
    "model.add(Dense(1))\n",
    "model.add(Activation('sigmoid'))"
   ]
  },
  {
   "cell_type": "code",
   "execution_count": 8,
   "metadata": {},
   "outputs": [],
   "source": [
    "model.compile(loss='binary_crossentropy',optimizer='rmsprop',metrics=['accuracy'])"
   ]
  },
  {
   "cell_type": "code",
   "execution_count": 9,
   "metadata": {},
   "outputs": [
    {
     "name": "stdout",
     "output_type": "stream",
     "text": [
      "WARNING:tensorflow:From /opt/miniconda3/envs/ai/lib/python3.6/site-packages/tensorflow/python/ops/math_ops.py:3066: to_int32 (from tensorflow.python.ops.math_ops) is deprecated and will be removed in a future version.\n",
      "Instructions for updating:\n",
      "Use tf.cast instead.\n",
      "Epoch 1/50\n",
      "128/128 [==============================] - 86s 671ms/step - loss: 0.5273 - acc: 0.7519 - val_loss: 0.2886 - val_acc: 0.8697\n",
      "Epoch 2/50\n",
      "128/128 [==============================] - 29s 225ms/step - loss: 0.3693 - acc: 0.8472 - val_loss: 0.2114 - val_acc: 0.9223\n",
      "Epoch 3/50\n",
      "128/128 [==============================] - 30s 237ms/step - loss: 0.3004 - acc: 0.8852 - val_loss: 0.1614 - val_acc: 0.9248\n",
      "Epoch 4/50\n",
      "128/128 [==============================] - 30s 237ms/step - loss: 0.2622 - acc: 0.8977 - val_loss: 0.1594 - val_acc: 0.9449\n",
      "Epoch 5/50\n",
      "128/128 [==============================] - 28s 221ms/step - loss: 0.2397 - acc: 0.9141 - val_loss: 0.1549 - val_acc: 0.9348\n",
      "Epoch 6/50\n",
      "128/128 [==============================] - 30s 234ms/step - loss: 0.1762 - acc: 0.9346 - val_loss: 0.2637 - val_acc: 0.9348\n",
      "Epoch 7/50\n",
      "128/128 [==============================] - 30s 236ms/step - loss: 0.1677 - acc: 0.9434 - val_loss: 0.2652 - val_acc: 0.9348\n",
      "Epoch 8/50\n",
      "128/128 [==============================] - 29s 226ms/step - loss: 0.1439 - acc: 0.9546 - val_loss: 0.1819 - val_acc: 0.9348\n",
      "Epoch 9/50\n",
      "128/128 [==============================] - 30s 238ms/step - loss: 0.1216 - acc: 0.9639 - val_loss: 0.1964 - val_acc: 0.9273\n",
      "Epoch 10/50\n",
      "128/128 [==============================] - 30s 231ms/step - loss: 0.1169 - acc: 0.9619 - val_loss: 0.1926 - val_acc: 0.9298\n",
      "Epoch 11/50\n",
      "128/128 [==============================] - 29s 228ms/step - loss: 0.1052 - acc: 0.9717 - val_loss: 0.3119 - val_acc: 0.9223\n",
      "Epoch 12/50\n",
      "128/128 [==============================] - 30s 232ms/step - loss: 0.0954 - acc: 0.9707 - val_loss: 0.2393 - val_acc: 0.9298\n",
      "Epoch 13/50\n",
      "128/128 [==============================] - 30s 232ms/step - loss: 0.0922 - acc: 0.9678 - val_loss: 0.4124 - val_acc: 0.9148\n",
      "Epoch 14/50\n",
      "128/128 [==============================] - 30s 233ms/step - loss: 0.0759 - acc: 0.9725 - val_loss: 0.3737 - val_acc: 0.9373\n",
      "Epoch 15/50\n",
      "128/128 [==============================] - 31s 240ms/step - loss: 0.0728 - acc: 0.9785 - val_loss: 0.2465 - val_acc: 0.9323\n",
      "Epoch 16/50\n",
      "128/128 [==============================] - 27s 207ms/step - loss: 0.0701 - acc: 0.9751 - val_loss: 0.4164 - val_acc: 0.9373\n",
      "Epoch 17/50\n",
      "128/128 [==============================] - 29s 225ms/step - loss: 0.0637 - acc: 0.9800 - val_loss: 0.3179 - val_acc: 0.9248\n",
      "Epoch 18/50\n",
      "128/128 [==============================] - 30s 237ms/step - loss: 0.0595 - acc: 0.9824 - val_loss: 0.6164 - val_acc: 0.9248\n",
      "Epoch 19/50\n",
      "128/128 [==============================] - 30s 235ms/step - loss: 0.0677 - acc: 0.9810 - val_loss: 0.4160 - val_acc: 0.9123\n",
      "Epoch 20/50\n",
      "128/128 [==============================] - 31s 239ms/step - loss: 0.0558 - acc: 0.9824 - val_loss: 0.4283 - val_acc: 0.9348\n",
      "Epoch 21/50\n",
      "128/128 [==============================] - 30s 237ms/step - loss: 0.0773 - acc: 0.9810 - val_loss: 0.5473 - val_acc: 0.9298\n",
      "Epoch 22/50\n",
      "128/128 [==============================] - 29s 226ms/step - loss: 0.0614 - acc: 0.9805 - val_loss: 0.3747 - val_acc: 0.8972\n",
      "Epoch 23/50\n",
      "128/128 [==============================] - 33s 259ms/step - loss: 0.0649 - acc: 0.9854 - val_loss: 0.3368 - val_acc: 0.9198\n",
      "Epoch 24/50\n",
      "128/128 [==============================] - 31s 242ms/step - loss: 0.0459 - acc: 0.9893 - val_loss: 0.4984 - val_acc: 0.9223\n",
      "Epoch 25/50\n",
      "128/128 [==============================] - 28s 220ms/step - loss: 0.0615 - acc: 0.9858 - val_loss: 0.5689 - val_acc: 0.9298\n",
      "Epoch 26/50\n",
      "128/128 [==============================] - 31s 242ms/step - loss: 0.0692 - acc: 0.9819 - val_loss: 0.5599 - val_acc: 0.9323\n",
      "Epoch 27/50\n",
      "128/128 [==============================] - 34s 263ms/step - loss: 0.0601 - acc: 0.9829 - val_loss: 0.3466 - val_acc: 0.9048\n",
      "Epoch 28/50\n",
      "128/128 [==============================] - 27s 214ms/step - loss: 0.0796 - acc: 0.9810 - val_loss: 0.3564 - val_acc: 0.9223\n",
      "Epoch 29/50\n",
      "128/128 [==============================] - 30s 237ms/step - loss: 0.0608 - acc: 0.9868 - val_loss: 0.2928 - val_acc: 0.9223\n",
      "Epoch 30/50\n",
      "128/128 [==============================] - 34s 262ms/step - loss: 0.1043 - acc: 0.9769 - val_loss: 0.5380 - val_acc: 0.9323\n",
      "Epoch 31/50\n",
      "128/128 [==============================] - 38s 294ms/step - loss: 0.0649 - acc: 0.9829 - val_loss: 0.4143 - val_acc: 0.9298\n",
      "Epoch 32/50\n",
      "128/128 [==============================] - 36s 279ms/step - loss: 0.0628 - acc: 0.9805 - val_loss: 0.3551 - val_acc: 0.9323\n",
      "Epoch 33/50\n",
      "128/128 [==============================] - 32s 249ms/step - loss: 0.0614 - acc: 0.9873 - val_loss: 0.3106 - val_acc: 0.9373\n",
      "Epoch 34/50\n",
      "128/128 [==============================] - 30s 232ms/step - loss: 0.0885 - acc: 0.9819 - val_loss: 0.4964 - val_acc: 0.9148\n",
      "Epoch 35/50\n",
      "128/128 [==============================] - 30s 231ms/step - loss: 0.0430 - acc: 0.9902 - val_loss: 0.8307 - val_acc: 0.9248\n",
      "Epoch 36/50\n",
      "128/128 [==============================] - 32s 252ms/step - loss: 0.0723 - acc: 0.9849 - val_loss: 0.8578 - val_acc: 0.9223\n",
      "Epoch 37/50\n",
      "128/128 [==============================] - 32s 248ms/step - loss: 0.0527 - acc: 0.9839 - val_loss: 0.3070 - val_acc: 0.9449\n",
      "Epoch 38/50\n",
      "128/128 [==============================] - 41s 317ms/step - loss: 0.0636 - acc: 0.9829 - val_loss: 0.3113 - val_acc: 0.9198\n",
      "Epoch 39/50\n",
      "128/128 [==============================] - 48s 377ms/step - loss: 0.0931 - acc: 0.9779 - val_loss: 0.2362 - val_acc: 0.9474\n",
      "Epoch 40/50\n",
      "128/128 [==============================] - 48s 378ms/step - loss: 0.0605 - acc: 0.9834 - val_loss: 0.3025 - val_acc: 0.9524\n",
      "Epoch 41/50\n",
      "128/128 [==============================] - 34s 265ms/step - loss: 0.0629 - acc: 0.9858 - val_loss: 0.3299 - val_acc: 0.9173\n",
      "Epoch 42/50\n",
      "128/128 [==============================] - 32s 250ms/step - loss: 0.0692 - acc: 0.9814 - val_loss: 0.3217 - val_acc: 0.9148\n",
      "Epoch 43/50\n",
      "128/128 [==============================] - 32s 248ms/step - loss: 0.0542 - acc: 0.9878 - val_loss: 0.3907 - val_acc: 0.9323\n",
      "Epoch 44/50\n",
      "128/128 [==============================] - 31s 244ms/step - loss: 0.0722 - acc: 0.9839 - val_loss: 0.5289 - val_acc: 0.9323\n",
      "Epoch 45/50\n",
      "128/128 [==============================] - 33s 259ms/step - loss: 0.0654 - acc: 0.9849 - val_loss: 0.6689 - val_acc: 0.9273\n",
      "Epoch 46/50\n",
      "128/128 [==============================] - 32s 251ms/step - loss: 0.0643 - acc: 0.9834 - val_loss: 0.4083 - val_acc: 0.9273\n",
      "Epoch 47/50\n",
      "128/128 [==============================] - 32s 247ms/step - loss: 0.0418 - acc: 0.9902 - val_loss: 0.4172 - val_acc: 0.9148\n",
      "Epoch 48/50\n",
      "128/128 [==============================] - 31s 242ms/step - loss: 0.0707 - acc: 0.9829 - val_loss: 0.2622 - val_acc: 0.9373\n",
      "Epoch 49/50\n",
      "128/128 [==============================] - 33s 255ms/step - loss: 0.0450 - acc: 0.9917 - val_loss: 0.4726 - val_acc: 0.9348\n",
      "Epoch 50/50\n",
      "128/128 [==============================] - 32s 248ms/step - loss: 0.0756 - acc: 0.9839 - val_loss: 0.7567 - val_acc: 0.9398\n"
     ]
    }
   ],
   "source": [
    "training = model.fit_generator(generator=train_generator, steps_per_epoch=2048 // 16,epochs=50,validation_data=validation_generator,validation_steps=832//16)"
   ]
  },
  {
   "cell_type": "code",
   "execution_count": 10,
   "metadata": {},
   "outputs": [],
   "source": [
    "model.save_weights('models/image_model_saved.h5')"
   ]
  },
  {
   "cell_type": "code",
   "execution_count": 11,
   "metadata": {},
   "outputs": [],
   "source": [
    "model.load_weights('models/image_model_saved.h5')"
   ]
  },
  {
   "cell_type": "code",
   "execution_count": null,
   "metadata": {},
   "outputs": [],
   "source": []
  }
 ],
 "metadata": {
  "kernelspec": {
   "display_name": "ai",
   "language": "python",
   "name": "ai"
  },
  "language_info": {
   "codemirror_mode": {
    "name": "ipython",
    "version": 3
   },
   "file_extension": ".py",
   "mimetype": "text/x-python",
   "name": "python",
   "nbconvert_exporter": "python",
   "pygments_lexer": "ipython3",
   "version": "3.6.8"
  }
 },
 "nbformat": 4,
 "nbformat_minor": 2
}
